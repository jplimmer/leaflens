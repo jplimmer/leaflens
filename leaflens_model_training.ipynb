{
  "nbformat": 4,
  "nbformat_minor": 0,
  "metadata": {
    "colab": {
      "provenance": [],
      "gpuType": "A100",
      "machine_shape": "hm",
      "authorship_tag": "ABX9TyPr15n5FQuIqwoIZQR3C0my",
      "include_colab_link": true
    },
    "kernelspec": {
      "name": "python3",
      "display_name": "Python 3"
    },
    "language_info": {
      "name": "python"
    },
    "accelerator": "GPU"
  },
  "cells": [
    {
      "cell_type": "markdown",
      "metadata": {
        "id": "view-in-github",
        "colab_type": "text"
      },
      "source": [
        "<a href=\"https://colab.research.google.com/github/jplimmer/leaflens/blob/tidy_up/leaflens_model_training.ipynb\" target=\"_parent\"><img src=\"https://colab.research.google.com/assets/colab-badge.svg\" alt=\"Open In Colab\"/></a>"
      ]
    },
    {
      "cell_type": "code",
      "source": [
        "# Training TensorFlow model on the PlantVillage color dataset ().\n",
        "\n",
        "# This notebook requires that the dataset has already been split into training and test sets, which are in zipped folders in your Google Drive.\n",
        "# In Colab 'Secrets', create the secret name 'gdrive_plantvillage_training_data' as your Google Drive file path for training data (starting with '/content/').\n",
        "\n",
        "# The notebook uses only training and validation sets, so the model can still be tuned before final testing."
      ],
      "metadata": {
        "id": "aJdna0FSdDLE"
      },
      "execution_count": null,
      "outputs": []
    },
    {
      "cell_type": "code",
      "execution_count": null,
      "metadata": {
        "colab": {
          "base_uri": "https://localhost:8080/"
        },
        "id": "O6hkhSoVNN47",
        "outputId": "5f263161-5157-46a0-80f1-e36a06e0dbde"
      },
      "outputs": [
        {
          "output_type": "stream",
          "name": "stdout",
          "text": [
            "Mounted at /content/drive\n",
            "2.17.0\n",
            "3.4.1\n"
          ]
        }
      ],
      "source": [
        "# Imports\n",
        "import os\n",
        "from google.colab import drive, userdata\n",
        "drive.mount('/content/drive')\n",
        "import shutil\n",
        "import zipfile\n",
        "\n",
        "import numpy as np\n",
        "import PIL\n",
        "import matplotlib.pyplot as plt\n",
        "import seaborn as sns\n",
        "\n",
        "import tensorflow as tf\n",
        "from tensorflow import keras\n",
        "from keras import layers, models\n",
        "from sklearn.model_selection import train_test_split\n",
        "\n",
        "print(tf.__version__)\n",
        "print(keras.__version__)"
      ]
    },
    {
      "cell_type": "code",
      "source": [
        "# Load PlantVillage training data (zip file) from Google Drive into Colab local file system\n",
        "\n",
        "# Define paths (see intro cell for creating a secret name in Colab)\n",
        "drive_dataset_path = userdata.get('gdrive_plantvillage_training_data')\n",
        "local_dataset_path = '/content/plants'\n",
        "\n",
        "# Copy dataset across\n",
        "shutil.copy(drive_dataset_path, '/content/')\n",
        "\n",
        "# Extract the dataset from zip file\n",
        "with zipfile.ZipFile('/content/train.zip', 'r') as zip_ref:\n",
        "    zip_ref.extractall(local_dataset_path)\n",
        "\n",
        "# Verify extraction\n",
        "!ls /content/plants/train"
      ],
      "metadata": {
        "colab": {
          "base_uri": "https://localhost:8080/"
        },
        "collapsed": true,
        "id": "tsgI6mSlkxvW",
        "outputId": "a5a4938b-af40-4504-d044-8cb34ecf31a8"
      },
      "execution_count": null,
      "outputs": [
        {
          "output_type": "stream",
          "name": "stdout",
          "text": [
            " Apple___Apple_scab\n",
            " Apple___Black_rot\n",
            " Apple___Cedar_apple_rust\n",
            " Apple___healthy\n",
            " Blueberry___healthy\n",
            "'Cherry_(including_sour)___healthy'\n",
            "'Cherry_(including_sour)___Powdery_mildew'\n",
            "'Corn_(maize)___Cercospora_leaf_spot Gray_leaf_spot'\n",
            "'Corn_(maize)___Common_rust_'\n",
            "'Corn_(maize)___healthy'\n",
            "'Corn_(maize)___Northern_Leaf_Blight'\n",
            " Grape___Black_rot\n",
            "'Grape___Esca_(Black_Measles)'\n",
            " Grape___healthy\n",
            "'Grape___Leaf_blight_(Isariopsis_Leaf_Spot)'\n",
            "'Orange___Haunglongbing_(Citrus_greening)'\n",
            " Peach___Bacterial_spot\n",
            " Peach___healthy\n",
            " Pepper,_bell___Bacterial_spot\n",
            " Pepper,_bell___healthy\n",
            " Potato___Early_blight\n",
            " Potato___healthy\n",
            " Potato___Late_blight\n",
            " Raspberry___healthy\n",
            " Soybean___healthy\n",
            " Squash___Powdery_mildew\n",
            " Strawberry___healthy\n",
            " Strawberry___Leaf_scorch\n",
            " Tomato___Bacterial_spot\n",
            " Tomato___Early_blight\n",
            " Tomato___healthy\n",
            " Tomato___Late_blight\n",
            " Tomato___Leaf_Mold\n",
            " Tomato___Septoria_leaf_spot\n",
            "'Tomato___Spider_mites Two-spotted_spider_mite'\n",
            " Tomato___Target_Spot\n",
            " Tomato___Tomato_mosaic_virus\n",
            " Tomato___Tomato_Yellow_Leaf_Curl_Virus\n"
          ]
        }
      ]
    },
    {
      "cell_type": "code",
      "source": [
        "# Create training and validation sets (from training data)\n",
        "data_dir = '/content/plants/train'\n",
        "batch_size = 32\n",
        "img_height = 224\n",
        "img_width = 224\n",
        "\n",
        "train_ds = tf.keras.utils.image_dataset_from_directory(\n",
        "  data_dir,\n",
        "  validation_split=0.2,\n",
        "  subset=\"training\",\n",
        "  shuffle=True,\n",
        "  seed=123,\n",
        "  image_size=(img_height, img_width),\n",
        "  batch_size=batch_size)\n",
        "\n",
        "val_ds = tf.keras.utils.image_dataset_from_directory(\n",
        "  data_dir,\n",
        "  validation_split=0.2,\n",
        "  subset=\"validation\",\n",
        "  shuffle=True,\n",
        "  seed=123,\n",
        "  image_size=(img_height, img_width),\n",
        "  batch_size=batch_size)\n",
        "\n",
        "class_names = train_ds.class_names\n",
        "class_names"
      ],
      "metadata": {
        "colab": {
          "base_uri": "https://localhost:8080/"
        },
        "collapsed": true,
        "id": "xeRDlnfrc1j3",
        "outputId": "b5b6a0ac-3370-4d17-bb40-74b90e36b50d"
      },
      "execution_count": null,
      "outputs": [
        {
          "output_type": "stream",
          "name": "stdout",
          "text": [
            "Found 43429 files belonging to 38 classes.\n",
            "Using 34744 files for training.\n",
            "Found 43429 files belonging to 38 classes.\n",
            "Using 8685 files for validation.\n"
          ]
        },
        {
          "output_type": "execute_result",
          "data": {
            "text/plain": [
              "['Apple___Apple_scab',\n",
              " 'Apple___Black_rot',\n",
              " 'Apple___Cedar_apple_rust',\n",
              " 'Apple___healthy',\n",
              " 'Blueberry___healthy',\n",
              " 'Cherry_(including_sour)___Powdery_mildew',\n",
              " 'Cherry_(including_sour)___healthy',\n",
              " 'Corn_(maize)___Cercospora_leaf_spot Gray_leaf_spot',\n",
              " 'Corn_(maize)___Common_rust_',\n",
              " 'Corn_(maize)___Northern_Leaf_Blight',\n",
              " 'Corn_(maize)___healthy',\n",
              " 'Grape___Black_rot',\n",
              " 'Grape___Esca_(Black_Measles)',\n",
              " 'Grape___Leaf_blight_(Isariopsis_Leaf_Spot)',\n",
              " 'Grape___healthy',\n",
              " 'Orange___Haunglongbing_(Citrus_greening)',\n",
              " 'Peach___Bacterial_spot',\n",
              " 'Peach___healthy',\n",
              " 'Pepper,_bell___Bacterial_spot',\n",
              " 'Pepper,_bell___healthy',\n",
              " 'Potato___Early_blight',\n",
              " 'Potato___Late_blight',\n",
              " 'Potato___healthy',\n",
              " 'Raspberry___healthy',\n",
              " 'Soybean___healthy',\n",
              " 'Squash___Powdery_mildew',\n",
              " 'Strawberry___Leaf_scorch',\n",
              " 'Strawberry___healthy',\n",
              " 'Tomato___Bacterial_spot',\n",
              " 'Tomato___Early_blight',\n",
              " 'Tomato___Late_blight',\n",
              " 'Tomato___Leaf_Mold',\n",
              " 'Tomato___Septoria_leaf_spot',\n",
              " 'Tomato___Spider_mites Two-spotted_spider_mite',\n",
              " 'Tomato___Target_Spot',\n",
              " 'Tomato___Tomato_Yellow_Leaf_Curl_Virus',\n",
              " 'Tomato___Tomato_mosaic_virus',\n",
              " 'Tomato___healthy']"
            ]
          },
          "metadata": {},
          "execution_count": 3
        }
      ]
    },
    {
      "cell_type": "code",
      "source": [
        "# Performance optimisation\n",
        "AUTOTUNE = tf.data.AUTOTUNE\n",
        "\n",
        "train_ds = train_ds.cache().prefetch(buffer_size=AUTOTUNE)\n",
        "val_ds = val_ds.cache().prefetch(buffer_size=AUTOTUNE)"
      ],
      "metadata": {
        "id": "6fieTvAneUWZ"
      },
      "execution_count": null,
      "outputs": []
    },
    {
      "cell_type": "code",
      "source": [
        "# Define model\n",
        "num_classes = len(class_names)\n",
        "\n",
        "model = models.Sequential([\n",
        "  keras.Input(shape=(img_height, img_width, 3)),\n",
        "  layers.Rescaling(1./255),\n",
        "  layers.Conv2D(16, 3, padding='same', activation='relu'),\n",
        "  layers.MaxPooling2D(),\n",
        "  layers.Conv2D(32, 3, padding='same', activation='relu'),\n",
        "  layers.MaxPooling2D(),\n",
        "  layers.Conv2D(64, 3, padding='same', activation='relu'),\n",
        "  layers.MaxPooling2D(),\n",
        "  layers.Dropout(0.25),\n",
        "  layers.Flatten(),\n",
        "  layers.Dense(128, activation='relu'),\n",
        "  layers.Dense(num_classes)\n",
        "])"
      ],
      "metadata": {
        "id": "w_W7sE-VnBa1"
      },
      "execution_count": null,
      "outputs": []
    },
    {
      "cell_type": "code",
      "source": [
        "model.compile(optimizer='adam',\n",
        "              loss=tf.keras.losses.SparseCategoricalCrossentropy(from_logits=True),\n",
        "              metrics=['accuracy'])"
      ],
      "metadata": {
        "id": "oeKu1Fdvd8Lr"
      },
      "execution_count": null,
      "outputs": []
    },
    {
      "cell_type": "code",
      "source": [
        "epochs=10\n",
        "\n",
        "history = model.fit(\n",
        "  train_ds,\n",
        "  validation_data=val_ds,\n",
        "  epochs=epochs\n",
        ")"
      ],
      "metadata": {
        "colab": {
          "base_uri": "https://localhost:8080/"
        },
        "id": "zCHGdFuXo2TW",
        "outputId": "db66f362-baa4-46d9-fb91-33ecb853c48e"
      },
      "execution_count": null,
      "outputs": [
        {
          "output_type": "stream",
          "name": "stdout",
          "text": [
            "Epoch 1/10\n",
            "\u001b[1m1086/1086\u001b[0m \u001b[32m━━━━━━━━━━━━━━━━━━━━\u001b[0m\u001b[37m\u001b[0m \u001b[1m42s\u001b[0m 32ms/step - accuracy: 0.5173 - loss: 1.8011 - val_accuracy: 0.8018 - val_loss: 0.6361\n",
            "Epoch 2/10\n",
            "\u001b[1m1086/1086\u001b[0m \u001b[32m━━━━━━━━━━━━━━━━━━━━\u001b[0m\u001b[37m\u001b[0m \u001b[1m8s\u001b[0m 7ms/step - accuracy: 0.8585 - loss: 0.4545 - val_accuracy: 0.8811 - val_loss: 0.3702\n",
            "Epoch 3/10\n",
            "\u001b[1m1086/1086\u001b[0m \u001b[32m━━━━━━━━━━━━━━━━━━━━\u001b[0m\u001b[37m\u001b[0m \u001b[1m8s\u001b[0m 7ms/step - accuracy: 0.9254 - loss: 0.2376 - val_accuracy: 0.8702 - val_loss: 0.4249\n",
            "Epoch 4/10\n",
            "\u001b[1m1086/1086\u001b[0m \u001b[32m━━━━━━━━━━━━━━━━━━━━\u001b[0m\u001b[37m\u001b[0m \u001b[1m8s\u001b[0m 7ms/step - accuracy: 0.9456 - loss: 0.1673 - val_accuracy: 0.8815 - val_loss: 0.4451\n",
            "Epoch 5/10\n",
            "\u001b[1m1086/1086\u001b[0m \u001b[32m━━━━━━━━━━━━━━━━━━━━\u001b[0m\u001b[37m\u001b[0m \u001b[1m8s\u001b[0m 7ms/step - accuracy: 0.9526 - loss: 0.1394 - val_accuracy: 0.8879 - val_loss: 0.4192\n",
            "Epoch 6/10\n",
            "\u001b[1m1086/1086\u001b[0m \u001b[32m━━━━━━━━━━━━━━━━━━━━\u001b[0m\u001b[37m\u001b[0m \u001b[1m8s\u001b[0m 7ms/step - accuracy: 0.9688 - loss: 0.0915 - val_accuracy: 0.8769 - val_loss: 0.5316\n",
            "Epoch 7/10\n",
            "\u001b[1m1086/1086\u001b[0m \u001b[32m━━━━━━━━━━━━━━━━━━━━\u001b[0m\u001b[37m\u001b[0m \u001b[1m8s\u001b[0m 7ms/step - accuracy: 0.9743 - loss: 0.0757 - val_accuracy: 0.8941 - val_loss: 0.4716\n",
            "Epoch 8/10\n",
            "\u001b[1m1086/1086\u001b[0m \u001b[32m━━━━━━━━━━━━━━━━━━━━\u001b[0m\u001b[37m\u001b[0m \u001b[1m8s\u001b[0m 7ms/step - accuracy: 0.9766 - loss: 0.0680 - val_accuracy: 0.8853 - val_loss: 0.5694\n",
            "Epoch 9/10\n",
            "\u001b[1m1086/1086\u001b[0m \u001b[32m━━━━━━━━━━━━━━━━━━━━\u001b[0m\u001b[37m\u001b[0m \u001b[1m8s\u001b[0m 7ms/step - accuracy: 0.9743 - loss: 0.0801 - val_accuracy: 0.8892 - val_loss: 0.5565\n",
            "Epoch 10/10\n",
            "\u001b[1m1086/1086\u001b[0m \u001b[32m━━━━━━━━━━━━━━━━━━━━\u001b[0m\u001b[37m\u001b[0m \u001b[1m8s\u001b[0m 7ms/step - accuracy: 0.9822 - loss: 0.0553 - val_accuracy: 0.8869 - val_loss: 0.5467\n"
          ]
        }
      ]
    },
    {
      "cell_type": "code",
      "source": [
        "acc = history.history['accuracy']\n",
        "val_acc = history.history['val_accuracy']\n",
        "\n",
        "loss = history.history['loss']\n",
        "val_loss = history.history['val_loss']\n",
        "\n",
        "epochs_range = range(epochs)\n",
        "\n",
        "plt.figure(figsize=(14, 5))\n",
        "plt.subplot(1, 2, 1)\n",
        "plt.plot(epochs_range, acc, label='Training Accuracy')\n",
        "plt.plot(epochs_range, val_acc, label='Validation Accuracy')\n",
        "plt.legend(loc='lower right')\n",
        "plt.title('Training and Validation Accuracy', fontsize=18)\n",
        "\n",
        "# plt.subplot(1, 2, 2)\n",
        "# plt.plot(epochs_range, loss, label='Training Loss')\n",
        "# plt.plot(epochs_range, val_loss, label='Validation Loss')\n",
        "# plt.legend(loc='upper right')\n",
        "# plt.title('Training and Validation Loss')\n",
        "sns.despine()\n",
        "plt.savefig(\"/content/drive/My Drive/PlantVillage/training_chart.png\", transparent=True, bbox_inches=\"tight\")\n",
        "plt.show()"
      ],
      "metadata": {
        "colab": {
          "base_uri": "https://localhost:8080/",
          "height": 473
        },
        "id": "yIYuyi5gqHr8",
        "outputId": "4590e6e9-6f60-4d20-ba51-affccd0b4379"
      },
      "execution_count": null,
      "outputs": [
        {
          "output_type": "display_data",
          "data": {
            "text/plain": [
              "<Figure size 1400x500 with 1 Axes>"
            ],
            "image/png": "[encoded data removed]"
          },
          "metadata": {}
        }
      ]
    },
    {
      "cell_type": "code",
      "source": [
        "model.save(\"/content/drive/My Drive/PlantVillage/plant_model.keras\")"
      ],
      "metadata": {
        "id": "zW2rVNHxqH82"
      },
      "execution_count": null,
      "outputs": []
    },
    {
      "cell_type": "code",
      "source": [
        "!ls '/content/drive/My Drive/PlantVillage/'"
      ],
      "metadata": {
        "colab": {
          "base_uri": "https://localhost:8080/"
        },
        "id": "4nFenXDP7BUg",
        "outputId": "5ba0aa26-e67a-4c9e-ad2d-24b15d0275f2"
      },
      "execution_count": null,
      "outputs": [
        {
          "output_type": "stream",
          "name": "stdout",
          "text": [
            "color.zip  plant_model.keras  test.zip\ttraining_chart.png  train.zip\n"
          ]
        }
      ]
    },
    {
      "cell_type": "code",
      "source": [
        "### To Do\n",
        "\n",
        "# What is the output of model.predict?\n",
        "# Confirm preprocessing is correct\n",
        "\n",
        "# Improve front-end\n",
        "    # sizing to fit on screen\n",
        "    # layout, colour scheme\n",
        "    # return image?\n",
        "\n",
        "# Improve model\n",
        "    # Scaling - RGB or grayscale?\n",
        "\n",
        "    # Further augmentation? (val? Or as part of splitting)\n",
        "    # Rescaling\n",
        "    # Conv2D\n",
        "    # MaxPooling2D\n",
        "    # DropOut\n",
        "    # Flatten, Dense\n",
        "\n",
        "    # Compiling (Adam?)\n",
        "\n",
        "# Save predictions as well as image to back-end, for further training?\n",
        "\n",
        "### Future\n",
        "    # Convert saved model to TensorLite (for use on edge devices, rather than server?)"
      ],
      "metadata": {
        "id": "xSKpOMXfqTln"
      },
      "execution_count": null,
      "outputs": []
    }
  ]
}